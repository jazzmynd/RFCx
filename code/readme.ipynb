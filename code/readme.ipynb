{
 "cells": [
  {
   "cell_type": "markdown",
   "id": "2182c7c5",
   "metadata": {},
   "source": [
    "# Basic Instructions\n",
    "1. Run `get-class-frequencies.ipynb` to generate a data file containing the min/max frequency indices for each class. This is needed for data augmentation defined in `datagen.py`.\n",
    "2. Spectrogram data can be generated using the function `wave_to_mel_spec()` in `specinput.py`.\n",
    "3. Raw or augmented spectrograms can be visualized with `check-train-generator.ipynb`.\n",
    "4. A CNN can be trained for spectrogram labeling with `train.ipynb`.\n",
    "\n",
    "# Files\n",
    "1. `get-class-frequncies.ipynb`\n",
    "This notebook generates a `.npy` file containing the indices of the min and max frequencies of each class in a mel-spectrogram based on the parameters in `specinput.py` and the metadata in `class-meta.csv`. This file is required for the CutMix augmentation applied in `datagen.py`, so generate this file first. \n",
    "\n",
    "2. `check-train-generator.ipynb`\n",
    "This notebook sets up a data generator, loads N batches into memory, and visualizes examples of a specific class.\n",
    "\n",
    "3. `train.ipynb`\n",
    "Sets up train+validation spectrogram image generators, defines a CNN model and training hyperparameters, and fits the model\n",
    "\n",
    "4. `specinput.py`\n",
    "This file stores the parameters and code for reading audio and computing spectrograms.\n",
    "\n",
    "5. `datagen.py`\n",
    "Defines a class for generating batches of spectrogram images and on-the-fly augmentation\n",
    "\n",
    "6. `learningrate.py`\n",
    "Contains a function to define a learning rate curve with warmup and cosine decay, and a Keras Callback class for applying the schedule during fitting\n",
    "\n"
   ]
  },
  {
   "cell_type": "code",
   "execution_count": null,
   "id": "231b993e",
   "metadata": {},
   "outputs": [],
   "source": []
  }
 ],
 "metadata": {
  "kernelspec": {
   "display_name": "Python 3 (ipykernel)",
   "language": "python",
   "name": "python3"
  },
  "language_info": {
   "codemirror_mode": {
    "name": "ipython",
    "version": 3
   },
   "file_extension": ".py",
   "mimetype": "text/x-python",
   "name": "python",
   "nbconvert_exporter": "python",
   "pygments_lexer": "ipython3",
   "version": "3.9.12"
  }
 },
 "nbformat": 4,
 "nbformat_minor": 5
}
