{
 "cells": [
  {
   "cell_type": "markdown",
   "metadata": {},
   "source": [
    "This notebook sets up a data generator and plots generated training examples for visual inspection.\n"
   ]
  },
  {
   "cell_type": "code",
   "execution_count": 1,
   "metadata": {},
   "outputs": [],
   "source": [
    "import os\n",
    "import numpy as np\n",
    "import matplotlib.pyplot as plt\n",
    "# from datagen import DataGenerator, get_files_and_labels\n",
    "\n",
    "# directory with spectrogram images\n",
    "train_dir = '/home/ubuntu/data/bio/puerto-rico/specs/p/'\n",
    "\n",
    "resize_dim = [224, 224] # desired shape of generated images\n",
    "augment = 1 # whether to apply data augmentation\n",
    "batch_size = 32 # samples per batch\n"
   ]
  },
  {
   "cell_type": "code",
   "execution_count": 2,
   "metadata": {},
   "outputs": [
    {
     "name": "stdout",
     "output_type": "stream",
     "text": [
      "Cannot find class-freqs.npy. Please generate the file using get-class-frequencies.ipynb\n"
     ]
    }
   ],
   "source": [
    "if os.path.exists('./class-freqs.npy'):\n",
    "    spf = np.load('./class-freqs.npy')\n",
    "    spf = {i:[j,k] for (i,j,k) in spf}\n",
    "else:\n",
    "    print('Cannot find class-freqs.npy. Please generate the file using get-class-frequencies.ipynb')\n",
    "    "
   ]
  },
  {
   "cell_type": "code",
   "execution_count": 3,
   "metadata": {},
   "outputs": [
    {
     "ename": "NameError",
     "evalue": "name 'get_files_and_labels' is not defined",
     "output_type": "error",
     "traceback": [
      "\u001b[0;31m---------------------------------------------------------------------------\u001b[0m",
      "\u001b[0;31mNameError\u001b[0m                                 Traceback (most recent call last)",
      "Input \u001b[0;32mIn [3]\u001b[0m, in \u001b[0;36m<cell line: 2>\u001b[0;34m()\u001b[0m\n\u001b[1;32m      1\u001b[0m \u001b[38;5;66;03m# get training files and create a label dictionary\u001b[39;00m\n\u001b[0;32m----> 2\u001b[0m files_train, _, labels \u001b[38;5;241m=\u001b[39m \u001b[43mget_files_and_labels\u001b[49m(train_dir,\n\u001b[1;32m      3\u001b[0m                                               train_split\u001b[38;5;241m=\u001b[39m\u001b[38;5;241m1.0\u001b[39m)\n\u001b[1;32m      5\u001b[0m \u001b[38;5;66;03m# create a data generator instance\u001b[39;00m\n\u001b[1;32m      6\u001b[0m train_generator \u001b[38;5;241m=\u001b[39m DataGenerator(files_train,\n\u001b[1;32m      7\u001b[0m                                 labels,\n\u001b[1;32m      8\u001b[0m                                 resize_dim\u001b[38;5;241m=\u001b[39mresize_dim,\n\u001b[1;32m      9\u001b[0m                                 batch_size\u001b[38;5;241m=\u001b[39mbatch_size,\n\u001b[1;32m     10\u001b[0m                                 augment\u001b[38;5;241m=\u001b[39maugment)\n",
      "\u001b[0;31mNameError\u001b[0m: name 'get_files_and_labels' is not defined"
     ]
    }
   ],
   "source": [
    "# get training files and create a label dictionary\n",
    "files_train, _, labels = get_files_and_labels(train_dir,\n",
    "                                              train_split=1.0)\n",
    "\n",
    "# create a data generator instance\n",
    "train_generator = DataGenerator(files_train,\n",
    "                                labels,\n",
    "                                resize_dim=resize_dim,\n",
    "                                batch_size=batch_size,\n",
    "                                augment=augment)\n"
   ]
  },
  {
   "cell_type": "code",
   "execution_count": null,
   "metadata": {},
   "outputs": [],
   "source": [
    "# load an example batch\n",
    "batch = train_generator.__getitem__(0)\n"
   ]
  },
  {
   "cell_type": "code",
   "execution_count": null,
   "metadata": {},
   "outputs": [],
   "source": [
    "# load nbatch batches into memory\n",
    "nbatch = 10\n",
    "X = np.zeros((np.min([len(train_generator)*batch_size, nbatch*batch_size]), example[0].shape[1], example[0].shape[2], example[0].shape[3]))\n",
    "y = np.zeros((np.min([len(train_generator)*batch_size, nbatch*batch_size]), len(os.listdir(train_dir))))\n",
    "c = 0\n",
    "for ii in range(np.min([len(train_generator), nbatch])):\n",
    "    if ii % 100 ==0:\n",
    "        print(ii)\n",
    "    item = train_generator.__getitem__(ii)\n",
    "    for j in range(item[0].shape[0]):\n",
    "        X[c,:,:,:]=item[0][j]\n",
    "        y[c,:]=item[1][j]\n",
    "        c+=1\n"
   ]
  },
  {
   "cell_type": "code",
   "execution_count": null,
   "metadata": {},
   "outputs": [],
   "source": [
    "# get the index of present species in each sample\n",
    "\n",
    "# for masked loss target vector:\n",
    "# yp = [np.where(~np.isnan(i))[0] for i in y]\n",
    "\n",
    "# for binary crossentropy target vector\n",
    "yp = [np.argmax(i) for i in y]\n"
   ]
  },
  {
   "cell_type": "code",
   "execution_count": null,
   "metadata": {},
   "outputs": [],
   "source": [
    "# pick a random class index\n",
    "idx = np.random.choice(yp, 1)[0]\n",
    "print('idx = '+str(idx))\n",
    "\n",
    "# max number of plots to produce\n",
    "N = 5\n",
    "\n",
    "labels_rev = {v:k for (k,v) in labels.items()} # for getting class from index\n",
    "tmp = X[np.where(yp==idx)[0],:,:]\n",
    "tmpy = y[np.where(yp==idx)[0],:]\n",
    "print(labels_rev[idx])\n",
    "print('Number samples: '+str(tmp.shape[0]))\n",
    "\n",
    "for ii in np.random.choice(len(tmp),min(N,len(tmp)),replace=False):\n",
    "    plt.figure(figsize=(12,4))\n",
    "    plt.subplot(1,2,1)\n",
    "    sample = tmp[ii].mean(axis=-1).squeeze()\n",
    "    plt.pcolormesh(sample)\n",
    "    # highlight the class' frequency range with red lines\n",
    "    plt.gca().axhline(int(spf[labels_rev[idx]][0]),c='r')\n",
    "    plt.gca().axhline(int(spf[labels_rev[idx]][1])+1,c='r')\n",
    "    plt.colorbar()\n",
    "    plt.subplot(1,2,2)\n",
    "    # plot the target vector\n",
    "    plt.plot(tmpy[ii])\n",
    "    \n",
    "    "
   ]
  },
  {
   "cell_type": "code",
   "execution_count": null,
   "metadata": {},
   "outputs": [],
   "source": []
  },
  {
   "cell_type": "code",
   "execution_count": null,
   "metadata": {},
   "outputs": [],
   "source": []
  },
  {
   "cell_type": "code",
   "execution_count": null,
   "metadata": {},
   "outputs": [],
   "source": []
  },
  {
   "cell_type": "code",
   "execution_count": null,
   "metadata": {},
   "outputs": [],
   "source": []
  },
  {
   "cell_type": "code",
   "execution_count": null,
   "metadata": {},
   "outputs": [],
   "source": []
  }
 ],
 "metadata": {
  "kernelspec": {
   "display_name": "Python 3 (ipykernel)",
   "language": "python",
   "name": "python3"
  },
  "language_info": {
   "codemirror_mode": {
    "name": "ipython",
    "version": 3
   },
   "file_extension": ".py",
   "mimetype": "text/x-python",
   "name": "python",
   "nbconvert_exporter": "python",
   "pygments_lexer": "ipython3",
   "version": "3.9.12"
  }
 },
 "nbformat": 4,
 "nbformat_minor": 2
}
